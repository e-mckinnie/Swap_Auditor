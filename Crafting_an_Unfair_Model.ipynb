{
 "cells": [
  {
   "cell_type": "code",
   "execution_count": 1,
   "metadata": {},
   "outputs": [],
   "source": [
    "import pandas as pd\n",
    "import numpy as np\n",
    "from sklearn.linear_model import LogisticRegression\n",
    "from sklearn.ensemble import RandomForestClassifier\n",
    "from sklearn.neural_network import MLPClassifier\n",
    "from sklearn.model_selection import train_test_split\n",
    "from sklearn.metrics import classification_report\n",
    "from sklearn.model_selection import cross_val_score\n",
    "from sklearn.inspection import permutation_importance\n",
    "import matplotlib.pyplot as plt"
   ]
  },
  {
   "cell_type": "code",
   "execution_count": 2,
   "metadata": {},
   "outputs": [],
   "source": [
    "nels = pd.read_csv('data/NELS_Filtered.csv')\n",
    "nels_columns = pd.read_csv('data/NELS_Subset_Columns.csv')\n",
    "nels_columns_readable = pd.read_csv('data/NELS_Subset_Columns_Human_Readable.csv')\n",
    "nels_subset = nels[list(nels_columns.columns)]\n",
    "nels_subset.columns = list(nels_columns_readable.columns)"
   ]
  },
  {
   "cell_type": "code",
   "execution_count": 3,
   "metadata": {},
   "outputs": [
    {
     "name": "stderr",
     "output_type": "stream",
     "text": [
      "/var/folders/qj/gh_j11514m37mqtfrlr885k40000gn/T/ipykernel_74865/2138916466.py:5: SettingWithCopyWarning: \n",
      "A value is trying to be set on a copy of a slice from a DataFrame.\n",
      "Try using .loc[row_indexer,col_indexer] = value instead\n",
      "\n",
      "See the caveats in the documentation: https://pandas.pydata.org/pandas-docs/stable/user_guide/indexing.html#returning-a-view-versus-a-copy\n",
      "  nels_valid_grades[target_col] = np.where(nels_valid_grades[target_col] <= 3, 1, 0)\n"
     ]
    }
   ],
   "source": [
    "target_col = \"GradesUndergrad\" # Grades\n",
    "nels_valid_grades = nels_subset[(1 <= nels_subset[target_col]) & (nels_subset[target_col] <= 7)]\n",
    "\n",
    "# Make binary decision >= 2.75 GPA\n",
    "nels_valid_grades[target_col] = np.where(nels_valid_grades[target_col] <= 3, 1, 0)\n",
    "\n",
    "# Shuffle randomly before training models\n",
    "nels_valid_grades = nels_valid_grades.sample(frac=1).reset_index(drop=True)\n",
    "\n",
    "# Withhold columns that are improper for prediction (like having completed PSE)\n",
    "columns_to_withhold = [\"Degree\", \n",
    "\"StudentId\", \n",
    "\"HighestPostSecondaryEducationAttained\", \n",
    "\"AttendedFirstChoicePostSecondaryEducation\",\n",
    "\"JobSatisfaction\", \n",
    "\"Income\",\n",
    "\"TotalEarningsJob1\",\n",
    "\"TotalEarningsJob2\",\n",
    "\"CoursesAt2To4YearCollege\"]\n",
    "nels_valid_grades = nels_valid_grades[nels_valid_grades.columns.difference(columns_to_withhold)]\n",
    "\n",
    "X = nels_valid_grades[nels_valid_grades.columns.difference([target_col])]\n",
    "y = nels_valid_grades[target_col]\n"
   ]
  },
  {
   "cell_type": "code",
   "execution_count": 4,
   "metadata": {},
   "outputs": [],
   "source": [
    "# Run this cell to downsample\n",
    "from sklearn.utils import resample\n",
    "upsample = True\n",
    "\n",
    "# Separate majority and minority classes\n",
    "df_majority = nels_valid_grades[nels_valid_grades[target_col]==1]\n",
    "df_minority = nels_valid_grades[nels_valid_grades[target_col]==0]\n",
    "\n",
    "if upsample:\n",
    "    # Upsample minority class\n",
    "    df_minority_upsampled = resample(df_minority, \n",
    "                                    replace=True,\n",
    "                                    n_samples=6640,\n",
    "                                    random_state=0)\n",
    " \n",
    "    # Combine majority class with upsampled minority class\n",
    "    df_resampled = pd.concat([df_majority, df_minority_upsampled])\n",
    "else:\n",
    "    # Downsample majority class\n",
    "    df_majority_downsampled = resample(df_majority, \n",
    "                                    replace=False,\n",
    "                                    n_samples=1699,\n",
    "                                    random_state=0) \n",
    "    \n",
    "    # Combine minority class with downsampled majority class\n",
    "    df_resampled = pd.concat([df_majority_downsampled, df_minority])\n",
    "    \n",
    "# Display new class counts\n",
    "df_resampled[target_col].value_counts()\n",
    "nels_valid_grades = df_resampled\n",
    "\n",
    "X = nels_valid_grades.loc[:, nels_valid_grades.columns != target_col]\n",
    "y = nels_valid_grades[target_col]"
   ]
  },
  {
   "cell_type": "code",
   "execution_count": 5,
   "metadata": {},
   "outputs": [],
   "source": [
    "from sklearn.model_selection import train_test_split\n",
    "x_train, x_test, y_train, y_test = train_test_split(X, y, test_size=0.3, random_state=0)"
   ]
  },
  {
   "cell_type": "code",
   "execution_count": 6,
   "metadata": {},
   "outputs": [
    {
     "data": {
      "text/plain": [
       "RandomForestClassifier()"
      ]
     },
     "execution_count": 6,
     "metadata": {},
     "output_type": "execute_result"
    }
   ],
   "source": [
    "rf = RandomForestClassifier() # max_iter=1000 \n",
    "rf.fit(x_train, y_train)\n"
   ]
  },
  {
   "cell_type": "code",
   "execution_count": 7,
   "metadata": {},
   "outputs": [],
   "source": [
    "predictions = rf.predict(x_test)"
   ]
  },
  {
   "cell_type": "code",
   "execution_count": 8,
   "metadata": {},
   "outputs": [
    {
     "name": "stdout",
     "output_type": "stream",
     "text": [
      "              precision    recall  f1-score   support\n",
      "\n",
      "           0       0.92      0.94      0.93      2039\n",
      "           1       0.94      0.92      0.93      1945\n",
      "\n",
      "    accuracy                           0.93      3984\n",
      "   macro avg       0.93      0.93      0.93      3984\n",
      "weighted avg       0.93      0.93      0.93      3984\n",
      "\n"
     ]
    }
   ],
   "source": [
    "print(classification_report(y_test, predictions)) # target_names=target_names"
   ]
  },
  {
   "cell_type": "code",
   "execution_count": 11,
   "metadata": {},
   "outputs": [
    {
     "data": {
      "text/plain": [
       "array([0.95331325, 0.95444277, 0.95745482, 0.9559488 , 0.94728916])"
      ]
     },
     "execution_count": 11,
     "metadata": {},
     "output_type": "execute_result"
    }
   ],
   "source": [
    "rf_cross = RandomForestClassifier()\n",
    "scores = cross_val_score(rf, X, y, cv=5)\n",
    "scores"
   ]
  },
  {
   "cell_type": "code",
   "execution_count": 10,
   "metadata": {},
   "outputs": [
    {
     "name": "stderr",
     "output_type": "stream",
     "text": [
      "/Users/lucasrosenblatt/opt/miniconda3/envs/fairness_aif/lib/python3.8/site-packages/joblib/externals/loky/process_executor.py:702: UserWarning: A worker stopped while some jobs were given to the executor. This can be caused by a too short worker timeout or by a memory leak.\n",
      "  warnings.warn(\n"
     ]
    },
    {
     "data": {
      "image/png": "[encoded data removed]",
      "text/plain": [
       "<Figure size 432x288 with 1 Axes>"
      ]
     },
     "metadata": {
      "needs_background": "light"
     },
     "output_type": "display_data"
    }
   ],
   "source": [
    "result = permutation_importance(\n",
    "    rf, x_test, y_test, n_repeats=5, random_state=0, n_jobs=5, max_samples=1.0, scoring='f1'\n",
    ")\n",
    "sorted_idx = result.importances_mean.argsort()[-20:]\n",
    "\n",
    "fig, ax = plt.subplots()\n",
    "ax.boxplot(\n",
    "    result.importances[sorted_idx].T, vert=False, labels=x_test.columns[sorted_idx]\n",
    ")\n",
    "ax.set_title(\"Permutation Importances (test set)\")\n",
    "fig.tight_layout()\n",
    "plt.show()\n"
   ]
  },
  {
   "cell_type": "code",
   "execution_count": null,
   "metadata": {},
   "outputs": [],
   "source": []
  }
 ],
 "metadata": {
  "interpreter": {
   "hash": "b55ec6f90cb9762a882bd7057cae14284542c8e46a59811451c4b55f670613c6"
  },
  "kernelspec": {
   "display_name": "Python 3.8.12 64-bit ('fairness_aif': conda)",
   "language": "python",
   "name": "python3"
  },
  "language_info": {
   "codemirror_mode": {
    "name": "ipython",
    "version": 3
   },
   "file_extension": ".py",
   "mimetype": "text/x-python",
   "name": "python",
   "nbconvert_exporter": "python",
   "pygments_lexer": "ipython3",
   "version": "3.8.12"
  },
  "orig_nbformat": 4
 },
 "nbformat": 4,
 "nbformat_minor": 2
}
